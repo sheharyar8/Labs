{
 "cells": [
  {
   "cell_type": "markdown",
   "metadata": {},
   "source": [
    "# lab 9\n",
    "\n",
    "Suppose you have the follwoing payoff matriz of a prisoner's dilemna\n",
    "$$\\begin{bmatrix} (2,2) & (0,3) \\\\ (3,0) & (1,1)  \\end{bmatrix}$$\n",
    "\n",
    "Player 0 may play 0 or 1 and player 1 may play 0 or 1. 0 is cooperate (our peace), 1 is not cooperate (war).\n"
   ]
  },
  {
   "cell_type": "markdown",
   "metadata": {},
   "source": [
    "**1.** Create a function that receives results from each one of the player and gives as results a tuple with the results."
   ]
  },
  {
   "cell_type": "code",
   "execution_count": 1,
   "metadata": {},
   "outputs": [
    {
     "name": "stdout",
     "output_type": "stream",
     "text": [
      "Player1: Type 0 for Cooperate and 1 for Not Cooperate0\n",
      "Player2: Type 0 for Cooperate and 1 for Not Cooperate1\n"
     ]
    },
    {
     "data": {
      "text/plain": [
       "(0, 3)"
      ]
     },
     "execution_count": 1,
     "metadata": {},
     "output_type": "execute_result"
    }
   ],
   "source": [
    "'''\n",
    "Method 1\n",
    "'''\n",
    "\n",
    "def Payoff():\n",
    "    player1=input(\"Player1: Type 0 for Cooperate and 1 for Not Cooperate\")\n",
    "    player2=input(\"Player2: Type 0 for Cooperate and 1 for Not Cooperate\")\n",
    "    if int(player1)==0 and int(player2)==0:\n",
    "        Payoff=(2,2)\n",
    "    elif int(player1)==0 and int(player2)==1:\n",
    "        Payoff=(0,3)\n",
    "    elif int(player1)==1 and int(player2)==0:\n",
    "        Payoff=(3,0)\n",
    "    else:\n",
    "        Payoff=(1,1)\n",
    "        \n",
    "    return Payoff\n",
    "\n",
    "Payoff()\n"
   ]
  },
  {
   "cell_type": "code",
   "execution_count": 3,
   "metadata": {},
   "outputs": [
    {
     "data": {
      "text/plain": [
       "(0, 3)"
      ]
     },
     "execution_count": 3,
     "metadata": {},
     "output_type": "execute_result"
    }
   ],
   "source": [
    "'''\n",
    "Method 2\n",
    "'''\n",
    "\n",
    "PayoffList=[[(2,2),(0,3)],[(3,0),(1,1)]]\n",
    "def payoff(player1, player2):\n",
    "    a = PayoffList[player1][player2]\n",
    "    return a\n",
    "\n",
    "payoff(1,1)\n",
    "payoff(0,0)\n",
    "payoff(1,0)\n",
    "payoff(0,1)"
   ]
  },
  {
   "cell_type": "markdown",
   "metadata": {},
   "source": [
    "**2.** Player 0 is the user that chooses between 0 a 1. Player 1 is a computer. Result is randomly generated.  "
   ]
  },
  {
   "cell_type": "code",
   "execution_count": 4,
   "metadata": {},
   "outputs": [
    {
     "data": {
      "text/plain": [
       "(3, 0)"
      ]
     },
     "execution_count": 4,
     "metadata": {},
     "output_type": "execute_result"
    }
   ],
   "source": [
    "import random\n",
    "def payoffComputer(player1):\n",
    "    PC=random.randint(0,1)\n",
    "    result= PayoffList[player1][PC]\n",
    "    return result\n",
    "\n",
    "payoffComputer(1)"
   ]
  },
  {
   "cell_type": "code",
   "execution_count": 5,
   "metadata": {},
   "outputs": [
    {
     "name": "stdout",
     "output_type": "stream",
     "text": [
      "0 or 1?0\n"
     ]
    },
    {
     "data": {
      "text/plain": [
       "(2, 2)"
      ]
     },
     "execution_count": 5,
     "metadata": {},
     "output_type": "execute_result"
    }
   ],
   "source": [
    "PC = random.randint(0,1)\n",
    "user = int(input(\"0 or 1?\"))\n",
    "payoff(PC,user)"
   ]
  },
  {
   "cell_type": "markdown",
   "metadata": {},
   "source": [
    "**3.** Calculate the accumulated value resulting from an iterative game (10 iterations)"
   ]
  },
  {
   "cell_type": "code",
   "execution_count": 6,
   "metadata": {},
   "outputs": [
    {
     "name": "stdout",
     "output_type": "stream",
     "text": [
      "0 or 1?0\n",
      "(3, 0)\n",
      "3\n",
      "0 or 1?1\n",
      "(1, 1)\n",
      "4\n",
      "0 or 1?1\n",
      "(0, 3)\n",
      "4\n",
      "0 or 1?0\n",
      "(2, 2)\n",
      "6\n",
      "0 or 1?1\n",
      "(0, 3)\n",
      "6\n",
      "0 or 1?0\n",
      "(3, 0)\n",
      "9\n",
      "0 or 1?0\n",
      "(3, 0)\n",
      "12\n",
      "0 or 1?0\n",
      "(3, 0)\n",
      "15\n",
      "0 or 1?1\n",
      "(0, 3)\n",
      "15\n",
      "0 or 1?1\n",
      "(1, 1)\n",
      "16\n"
     ]
    }
   ],
   "source": [
    "total=0\n",
    "for i in range(1,11):\n",
    "    PC = random.randint(0,1)\n",
    "    user = int(input(\"0 or 1?\"))\n",
    "    print(payoff(PC,user))\n",
    "    result= payoff(PC,user)\n",
    "    total=total + result[0]\n",
    "    print(total)\n",
    "    "
   ]
  }
 ],
 "metadata": {
  "kernelspec": {
   "display_name": "Python 3",
   "language": "python",
   "name": "python3"
  },
  "language_info": {
   "codemirror_mode": {
    "name": "ipython",
    "version": 3
   },
   "file_extension": ".py",
   "mimetype": "text/x-python",
   "name": "python",
   "nbconvert_exporter": "python",
   "pygments_lexer": "ipython3",
   "version": "3.7.3"
  }
 },
 "nbformat": 4,
 "nbformat_minor": 2
}
