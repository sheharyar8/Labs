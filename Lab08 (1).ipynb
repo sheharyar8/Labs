{
 "cells": [
  {
   "cell_type": "code",
   "execution_count": 1,
   "metadata": {},
   "outputs": [
    {
     "name": "stdout",
     "output_type": "stream",
     "text": [
      "What is your name?Sheharyar \n"
     ]
    },
    {
     "data": {
      "text/plain": [
       "'Hope your day is going good, Sheharyar '"
      ]
     },
     "execution_count": 1,
     "metadata": {},
     "output_type": "execute_result"
    }
   ],
   "source": [
    "'''\n",
    "1. Create a function that asks the user his name and says Hello, John Doe\n",
    "'''\n",
    "\n",
    "def ask(question,answer):\n",
    "    msg=''\n",
    "    while msg==\"\":\n",
    "        msg=input(question)\n",
    "    return str(answer) + \" \" + str(msg)\n",
    "\n",
    "ask(\"What is your name?\", \"Hope your day is going good,\")"
   ]
  },
  {
   "cell_type": "code",
   "execution_count": 2,
   "metadata": {},
   "outputs": [
    {
     "name": "stdout",
     "output_type": "stream",
     "text": [
      "What is your problem?I am hungry\n",
      "Yes, Ofcourse\n",
      "What is your problem?I am sleepy\n",
      "Yes, Ofcourse\n",
      "What is your problem?bye\n",
      "Yes, Ofcourse\n"
     ]
    }
   ],
   "source": [
    "'''\n",
    "2. Create a function called chat that ask the user what is his problem and will answer \"yes of course\"\n",
    "'''\n",
    "\n",
    "def chat():\n",
    "    problem=\"\"\n",
    "    while problem != \"bye\":\n",
    "        problem = input(\"What is your problem?\")\n",
    "        print(\"Yes, Ofcourse\")\n",
    "\n",
    "chat()"
   ]
  },
  {
   "cell_type": "code",
   "execution_count": 4,
   "metadata": {},
   "outputs": [
    {
     "name": "stdout",
     "output_type": "stream",
     "text": [
      "What is your problem?I cannot swim\n",
      "Ok\n",
      "What is your problem?I am sad\n",
      "Sorry to hear that\n",
      "What is your problem?I want a vacation\n",
      "Oh that's bad\n",
      "What is your problem?I need an ice cream\n",
      "Sorry to hear that\n",
      "What is your problem?I do not know\n",
      "No problem\n",
      "What is your problem?thanks\n",
      "Sorry to hear that\n"
     ]
    }
   ],
   "source": [
    "'''\n",
    "3. Create a function called chat that ask the user what is his problem and will answer randomly among 6 possible answers\n",
    "'''\n",
    "import random\n",
    "randomAns = (\"Ok\",\"It will be fine\",\"No problem\",\"Don't worry\",\"Oh that's bad\",\"Sorry to hear that\")\n",
    "\n",
    "def chat1():\n",
    "    problem=\"\"\n",
    "    while problem != \"thanks\":\n",
    "        problem = input(\"What is your problem?\")\n",
    "        print(random.choice(randomAns))\n",
    "\n",
    "chat1()\n"
   ]
  },
  {
   "cell_type": "code",
   "execution_count": 7,
   "metadata": {},
   "outputs": [
    {
     "name": "stdout",
     "output_type": "stream",
     "text": [
      "What is your name?Sheharyar\n",
      "What is your problem?I am sad\n",
      "No problem\n",
      "What is your problem?thanks\n",
      "It will be fine\n"
     ]
    }
   ],
   "source": [
    "'''\n",
    "4. Put all together and improve\n",
    "'''\n",
    "\n",
    "def ask(question,answer):\n",
    "    msg=''\n",
    "    while msg==\"\":\n",
    "        msg=input(question)\n",
    "    return str(answer) + \" \" + str(msg)\n",
    "\n",
    "ask(\"What is your name?\", \"Hope your day is going good,\")\n",
    "\n",
    "import random\n",
    "randomAns = (\"Ok\",\"It will be fine\",\"No problem\",\"Don't worry\",\"Oh that's bad\",\"Sorry to hear that\")\n",
    "\n",
    "def chat2():\n",
    "    problem=\"\"\n",
    "    while problem != \"thanks\":\n",
    "        problem = input(\"What is your problem?\")\n",
    "        print(random.choice(randomAns))\n",
    "\n",
    "chat2()"
   ]
  },
  {
   "cell_type": "code",
   "execution_count": null,
   "metadata": {},
   "outputs": [],
   "source": []
  }
 ],
 "metadata": {
  "kernelspec": {
   "display_name": "Python 3",
   "language": "python",
   "name": "python3"
  },
  "language_info": {
   "codemirror_mode": {
    "name": "ipython",
    "version": 3
   },
   "file_extension": ".py",
   "mimetype": "text/x-python",
   "name": "python",
   "nbconvert_exporter": "python",
   "pygments_lexer": "ipython3",
   "version": "3.7.3"
  }
 },
 "nbformat": 4,
 "nbformat_minor": 2
}
