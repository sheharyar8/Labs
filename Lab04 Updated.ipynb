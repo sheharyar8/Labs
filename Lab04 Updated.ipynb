{
 "cells": [
  {
   "cell_type": "code",
   "execution_count": 4,
   "metadata": {},
   "outputs": [
    {
     "name": "stdout",
     "output_type": "stream",
     "text": [
      "[1000.0, 1100.0, 1210.0000000000002, 1331.0000000000005, 1464.1000000000004, 1610.5100000000004]\n"
     ]
    }
   ],
   "source": [
    "'''\n",
    "1) Create a list of volume of sales considering the following assumptions:\n",
    "inicial valueSales =1000\n",
    "anual growth rate = 10%\n",
    "number of years = 6\n",
    "'''\n",
    "initialsales= 1000\n",
    "rate= 0.10\n",
    "n= 6\n",
    "\n",
    "sales=[]\n",
    "for i in range(0,n):\n",
    "    sales.append(initialsales*(1+rate)**i)\n",
    "\n",
    "print(sales)"
   ]
  },
  {
   "cell_type": "code",
   "execution_count": 5,
   "metadata": {},
   "outputs": [
    {
     "name": "stdout",
     "output_type": "stream",
     "text": [
      "[300.00000000000006, 330.00000000000006, 363.0000000000001, 399.3000000000002, 439.2300000000002, 483.1530000000002]\n"
     ]
    }
   ],
   "source": [
    "'''\n",
    "2) Based on the previews list, create a list with costs knowing the profit margin:\n",
    "margin =70%\n",
    "'''\n",
    "costs=[]\n",
    "for i in sales:\n",
    "    costs.append(i * (1-0.70))\n",
    "\n",
    "print(costs)\n"
   ]
  },
  {
   "cell_type": "code",
   "execution_count": 6,
   "metadata": {},
   "outputs": [
    {
     "name": "stdout",
     "output_type": "stream",
     "text": [
      "[700.0, 770.0, 847.0000000000001, 931.7000000000003, 1024.8700000000001, 1127.3570000000002]\n"
     ]
    }
   ],
   "source": [
    "'''\n",
    "3) Create a list with the profit based on the last 2 exercises (profit = sales - cost)\n",
    "'''\n",
    "profit = []\n",
    "for i in range(0,6): \n",
    "    profit.append(sales[i]-costs[i])\n",
    "print(profit)"
   ]
  },
  {
   "cell_type": "code",
   "execution_count": 7,
   "metadata": {},
   "outputs": [
    {
     "name": "stdout",
     "output_type": "stream",
     "text": [
      "[200.0, 270.0, 347.0000000000001, 431.7000000000003, 524.8700000000001, 627.3570000000002]\n"
     ]
    }
   ],
   "source": [
    "'''\n",
    "4) Calculete a newProfit suposing 500 of fixed costs\n",
    "'''\n",
    "newprofit=[]\n",
    "for i in profit:\n",
    "    newprofit.append(i-500)\n",
    "print(newprofit)"
   ]
  },
  {
   "cell_type": "code",
   "execution_count": 8,
   "metadata": {},
   "outputs": [
    {
     "name": "stdout",
     "output_type": "stream",
     "text": [
      "[1455, 811, 771, 1320, 1823, 565]\n"
     ]
    }
   ],
   "source": [
    "'''\n",
    "5) Create a newSales list with random generated values between 200 and 2000. Corresponding to volume of sales\n",
    "during a certainn numberOfYears.\n",
    "some ints:\n",
    "Import module, writing import random\n",
    "use the method random.randint(a, b). This method is used to generate values between a and b ( Return a\n",
    "random integer N such that a <= N <= b.):\n",
    "'''\n",
    "\n",
    "import random\n",
    "a=200\n",
    "b=2000\n",
    "newsales=[]\n",
    "for i in range(0,n):\n",
    "    newsales.append(random.randint(a,b))\n",
    "print(newsales)\n"
   ]
  },
  {
   "cell_type": "code",
   "execution_count": 9,
   "metadata": {},
   "outputs": [
    {
     "name": "stdout",
     "output_type": "stream",
     "text": [
      "[-63.49999999999994, -256.69999999999993, -268.69999999999993, -103.99999999999994, 46.90000000000009, -330.5]\n"
     ]
    }
   ],
   "source": [
    "'''\n",
    "6) Create a new list with profits (newProfit). With margin 70% with fixed costs stated previously.\n",
    "'''\n",
    "newprofit2=[]\n",
    "for i in newsales:\n",
    "    newprofit2.append((i*(1-0.70))-500)\n",
    "    \n",
    "print(newprofit2)"
   ]
  },
  {
   "cell_type": "code",
   "execution_count": 10,
   "metadata": {},
   "outputs": [
    {
     "name": "stdout",
     "output_type": "stream",
     "text": [
      "16.666666666666664\n"
     ]
    }
   ],
   "source": [
    "'''\n",
    "7) What is the percentage of years having profits in the total?\n",
    "'''\n",
    "yearswithprofit=[]\n",
    "for i in newprofit2:\n",
    "    if i >0:\n",
    "        yearswithprofit.append(i)\n",
    "\n",
    "##print(yearswithprofit)\n",
    "\n",
    "percentageyearswithprofit = ((len(yearswithprofit)/6)*100)\n",
    "print(percentageyearswithprofit)"
   ]
  },
  {
   "cell_type": "code",
   "execution_count": 12,
   "metadata": {},
   "outputs": [
    {
     "data": {
      "text/plain": [
       "Text(0.5, 0, 'years')"
      ]
     },
     "execution_count": 12,
     "metadata": {},
     "output_type": "execute_result"
    },
    {
     "data": {
      "image/png": "[encoded data removed]",
      "text/plain": [
       "<Figure size 432x288 with 1 Axes>"
      ]
     },
     "metadata": {
      "needs_background": "light"
     },
     "output_type": "display_data"
    }
   ],
   "source": [
    "'''\n",
    "8) Plot the sales and the newSales (generated randomly) throughout the years.\n",
    "'''\n",
    "\n",
    "import matplotlib.pyplot as plt\n",
    "plt.plot(sales)\n",
    "plt.plot(newsales)\n",
    "plt.ylabel('sales')\n",
    "plt.xlabel('years')\n"
   ]
  },
  {
   "cell_type": "code",
   "execution_count": null,
   "metadata": {},
   "outputs": [],
   "source": []
  }
 ],
 "metadata": {
  "kernelspec": {
   "display_name": "Python 3",
   "language": "python",
   "name": "python3"
  },
  "language_info": {
   "codemirror_mode": {
    "name": "ipython",
    "version": 3
   },
   "file_extension": ".py",
   "mimetype": "text/x-python",
   "name": "python",
   "nbconvert_exporter": "python",
   "pygments_lexer": "ipython3",
   "version": "3.7.3"
  }
 },
 "nbformat": 4,
 "nbformat_minor": 2
}
