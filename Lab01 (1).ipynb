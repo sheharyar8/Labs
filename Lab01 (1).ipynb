{
 "cells": [
  {
   "cell_type": "code",
   "execution_count": null,
   "metadata": {},
   "outputs": [],
   "source": [
    "'''\n",
    "1) Verify if a value is integer\n",
    "'''\n",
    "n=2\n",
    "n==int(n)"
   ]
  },
  {
   "cell_type": "code",
   "execution_count": null,
   "metadata": {},
   "outputs": [],
   "source": [
    "'''\n",
    "2) Verify if a value is even\n",
    "'''\n",
    "n=8\n",
    "n%2==0\n"
   ]
  },
  {
   "cell_type": "code",
   "execution_count": null,
   "metadata": {},
   "outputs": [],
   "source": [
    "'''\n",
    "3) Insert two numbers. Is the first is bigger than the second?\n",
    "'''\n",
    "a=2\n",
    "b=5\n",
    "a > b"
   ]
  },
  {
   "cell_type": "code",
   "execution_count": null,
   "metadata": {},
   "outputs": [],
   "source": [
    "'''\n",
    "4) Verify if one value is multiple of another\n",
    "'''\n",
    "a=2\n",
    "b=18\n",
    "b%a==0"
   ]
  },
  {
   "cell_type": "code",
   "execution_count": null,
   "metadata": {},
   "outputs": [],
   "source": [
    "'''\n",
    "5) Calculate the interest earn by an investor that invested a capital of 200 during 3 years with an interest rate of 3%. (I=\n",
    "P*R*T)\n",
    "'''\n",
    "c=200\n",
    "t=3\n",
    "r=0.03\n",
    "\n",
    "interest=c*t*r\n",
    "print(interest)\n"
   ]
  },
  {
   "cell_type": "code",
   "execution_count": null,
   "metadata": {},
   "outputs": [],
   "source": [
    "'''\n",
    "6) Capital that an investor obtained after investing a capital of 200 during 3 years with an interest rate of 3%. (Compound\n",
    "interest)\n",
    "'''\n",
    "c=200\n",
    "t=3\n",
    "r=0.03\n",
    "\n",
    "compoundinterest=c*(1+r)**t\n",
    "print(compoundinterest)"
   ]
  },
  {
   "cell_type": "code",
   "execution_count": null,
   "metadata": {},
   "outputs": [],
   "source": [
    "'''\n",
    "7) Calculate your BMI (Body Mass Index)\n",
    "'''\n",
    "weight= 80\n",
    "height= 6\n",
    "BMI=weight/height\n",
    "print(BMI)"
   ]
  },
  {
   "cell_type": "code",
   "execution_count": null,
   "metadata": {},
   "outputs": [],
   "source": [
    "'''\n",
    "8) Calcule the Golden ration:\n",
    "1. Solve the problem without using libraries\n",
    "2. Use module math (import math) and function sqr (math.sqrt)\n",
    "'''\n",
    "gr=(1+(5**(1/2)))/2\n",
    "print(gr)\n",
    "\n",
    "import math\n",
    "gr=((1+math.sqrt(5))/2)\n",
    "print(gr)"
   ]
  },
  {
   "cell_type": "code",
   "execution_count": null,
   "metadata": {},
   "outputs": [],
   "source": [
    "'''\n",
    "9) Calculete the NPV (Net present value) of an investment, considering an initial investment of 10000, the following Cashflows\n",
    "2000,3000, 4000, 4000 and 5000 and a discount rate of 10%.\n",
    "Where:\n",
    "FV = Future cost of the cash inflows, I = Initial Investment k = Discount rate equal to the owner’s cost of capital\n",
    "'''\n",
    "I=10000\n",
    "k=0.10\n",
    "FV1=2000\n",
    "FV2=3000\n",
    "FV3=4000\n",
    "FV4=4000\n",
    "FV5=5000\n",
    "\n",
    "NPV=(FV1/(1+k)**1)+(FV2/(1+k)**2)+(FV3/(1+k)**3)+(FV4/(1+k)**4)+(FV5/(1+k)**5)-I\n",
    "print(NPV)"
   ]
  },
  {
   "cell_type": "code",
   "execution_count": 12,
   "metadata": {},
   "outputs": [
    {
     "name": "stdout",
     "output_type": "stream",
     "text": [
      "Please enter your name:Sheharyar\n",
      "Please enter your age:25\n",
      "This person was born in 1994\n"
     ]
    }
   ],
   "source": [
    "'''\n",
    "10.1) Ask the user to insert name and age. Calculate the the birth. Print a result saying the 'this person was born in'\n",
    "1. Solve the problem without using modules and libraries\n",
    "2. Solve the problem using the date library from module datetime, as fallow:\n",
    "from datetime import date\n",
    "today = date.today()\n",
    "today.year\n",
    "'''\n",
    "name=input(\"Please enter your name:\")\n",
    "age=input(\"Please enter your age:\")\n",
    "birthyear=2019-int(age)\n",
    "print(\"This person was born in \"+ str(birthyear))\n",
    "      "
   ]
  },
  {
   "cell_type": "code",
   "execution_count": 15,
   "metadata": {},
   "outputs": [
    {
     "name": "stdout",
     "output_type": "stream",
     "text": [
      "Please enter your name:Sheharyar\n",
      "Please enter your age:25\n",
      "This person was born in 1994\n"
     ]
    }
   ],
   "source": [
    "'''\n",
    "10.2)\n",
    "'''\n",
    "\n",
    "from datetime import date\n",
    "today=date.today()\n",
    "today.year\n",
    "name=input(\"Please enter your name:\")\n",
    "age=input(\"Please enter your age:\")\n",
    "birthyear=today.year - int(age)\n",
    "print(\"This person was born in \" + str(birthyear))"
   ]
  },
  {
   "cell_type": "code",
   "execution_count": 32,
   "metadata": {},
   "outputs": [
    {
     "name": "stdout",
     "output_type": "stream",
     "text": [
      "Please enter your forename:Sheharyar\n",
      "Please enter your sirname:Sirhindi\n",
      "Sheharyar Sirhindi\n",
      "SHEHARYAR SIRHINDI\n",
      "Sheharyar Sirhindi\n",
      "sheharyar sirhindi\n",
      "Sheharyar sirhindi\n"
     ]
    }
   ],
   "source": [
    "'''\n",
    "11) Ask the user to insert forenames, surnames. create a new variable (name) with your complete name.\n",
    "Create the follwoing variables:\n",
    "nameBig, where all the characters of the name are capitalized\n",
    "nameTitle, where the only the first character of each name (word) is capitalized\n",
    "nameSmall, where all the characters of the name are lower\n",
    "nameCapitalized, where only the first charater of the first name is capitalized\n",
    "'''\n",
    "forename=input(\"Please enter your forename:\")\n",
    "sirname=input(\"Please enter your sirname:\")\n",
    "name=str(forename) +\" \"+ str(sirname)\n",
    "print(name)\n",
    "\n",
    "nameBig= name.upper()\n",
    "print(nameBig)\n",
    "\n",
    "nameTitle=name.title()\n",
    "print(nameTitle)\n",
    "\n",
    "nameSmall=name.lower()\n",
    "print(nameSmall)\n",
    "\n",
    "nameCapitalized=name.capitalize()\n",
    "print(nameCapitalized)"
   ]
  },
  {
   "cell_type": "code",
   "execution_count": 38,
   "metadata": {},
   "outputs": [
    {
     "data": {
      "text/plain": [
       "-1"
      ]
     },
     "execution_count": 38,
     "metadata": {},
     "output_type": "execute_result"
    }
   ],
   "source": [
    "'''\n",
    "12) Use the follwoing method to show where in which carater appears the firs \"da\"\n",
    "str.find(sub,start,end)\n",
    "What happens if does not find?\n",
    "'''\n",
    "variable=(\"kgaskufgaskudgalshddakahslahdlih\")\n",
    "str.find(variable,\"da\")\n",
    "\n",
    "var=(\"abcderf\")\n",
    "str.find(var,\"da\")\n"
   ]
  },
  {
   "cell_type": "code",
   "execution_count": null,
   "metadata": {},
   "outputs": [],
   "source": []
  }
 ],
 "metadata": {
  "kernelspec": {
   "display_name": "Python 3",
   "language": "python",
   "name": "python3"
  },
  "language_info": {
   "codemirror_mode": {
    "name": "ipython",
    "version": 3
   },
   "file_extension": ".py",
   "mimetype": "text/x-python",
   "name": "python",
   "nbconvert_exporter": "python",
   "pygments_lexer": "ipython3",
   "version": "3.7.3"
  }
 },
 "nbformat": 4,
 "nbformat_minor": 2
}
