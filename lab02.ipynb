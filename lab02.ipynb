{
 "cells": [
  {
   "cell_type": "code",
   "execution_count": 21,
   "metadata": {},
   "outputs": [
    {
     "name": "stdout",
     "output_type": "stream",
     "text": [
      "['potatoes', 'carrots', 'cod', 'sprouts']\n"
     ]
    }
   ],
   "source": [
    "'''\n",
    "1) Construct a list (shoppingList) including 'potatoes', 'carrots', 'cod' and 'sprouts’\n",
    "'''\n",
    "\n",
    "shoppingList = ['potatoes','carrots','cod','sprouts']\n",
    "print(shoppingList)"
   ]
  },
  {
   "cell_type": "code",
   "execution_count": 22,
   "metadata": {},
   "outputs": [
    {
     "data": {
      "text/plain": [
       "'sprouts'"
      ]
     },
     "execution_count": 22,
     "metadata": {},
     "output_type": "execute_result"
    }
   ],
   "source": [
    "'''\n",
    "2) Get the second and the last element of the list\n",
    "'''\n",
    "shoppingList[1]\n",
    "shoppingList[-1]"
   ]
  },
  {
   "cell_type": "code",
   "execution_count": 23,
   "metadata": {},
   "outputs": [
    {
     "name": "stdout",
     "output_type": "stream",
     "text": [
      "potatoes\n",
      "carrots\n",
      "cod\n",
      "sprouts\n"
     ]
    }
   ],
   "source": [
    "'''\n",
    "3) Iterate though the list\n",
    "'''\n",
    "for purchase in shoppingList:\n",
    "    print(purchase)"
   ]
  },
  {
   "cell_type": "code",
   "execution_count": 24,
   "metadata": {},
   "outputs": [
    {
     "name": "stdout",
     "output_type": "stream",
     "text": [
      "[]\n"
     ]
    }
   ],
   "source": [
    "'''\n",
    "4) Create a new list (studentList)\n",
    "'''\n",
    "studentList=[]\n",
    "print(studentList)"
   ]
  },
  {
   "cell_type": "code",
   "execution_count": 25,
   "metadata": {},
   "outputs": [
    {
     "name": "stdout",
     "output_type": "stream",
     "text": [
      "['potatoes', 'carrots', 'cod', 'sprouts', 'orange', 'lime']\n"
     ]
    }
   ],
   "source": [
    "'''\n",
    "5) Add the follwoing elements to the shoppingList: orange and lime\n",
    "'''\n",
    "shoppingList.append('orange')\n",
    "shoppingList.append('lime')\n",
    "print(shoppingList)"
   ]
  },
  {
   "cell_type": "code",
   "execution_count": 26,
   "metadata": {},
   "outputs": [
    {
     "name": "stdout",
     "output_type": "stream",
     "text": [
      "['potatoes', 'carrots', 'cod', 'sprouts', 'orange', 'lime']\n"
     ]
    }
   ],
   "source": [
    "print(shoppingList)"
   ]
  },
  {
   "cell_type": "code",
   "execution_count": 27,
   "metadata": {},
   "outputs": [
    {
     "name": "stdout",
     "output_type": "stream",
     "text": [
      "['potatoes', 'cod', 'sprouts', 'orange', 'lime']\n",
      "['cod', 'sprouts', 'orange', 'lime']\n"
     ]
    }
   ],
   "source": [
    "'''\n",
    "6) Remove the carrots, the first element and last element of the shoppingList list\n",
    "'''\n",
    "\n",
    "shoppingList.remove('carrots')\n",
    "print(shoppingList)\n",
    "del shoppingList[0]\n",
    "print(shoppingList)"
   ]
  },
  {
   "cell_type": "code",
   "execution_count": 28,
   "metadata": {},
   "outputs": [
    {
     "name": "stdout",
     "output_type": "stream",
     "text": [
      "['cod', 'sprouts', 'orange']\n"
     ]
    }
   ],
   "source": [
    "del shoppingList[-1]\n",
    "print(shoppingList)"
   ]
  },
  {
   "cell_type": "code",
   "execution_count": 29,
   "metadata": {},
   "outputs": [
    {
     "ename": "NameError",
     "evalue": "name 'shoppingList' is not defined",
     "output_type": "error",
     "traceback": [
      "\u001b[1;31m---------------------------------------------------------------------------\u001b[0m",
      "\u001b[1;31mNameError\u001b[0m                                 Traceback (most recent call last)",
      "\u001b[1;32m<ipython-input-29-ba1ae18ee008>\u001b[0m in \u001b[0;36m<module>\u001b[1;34m\u001b[0m\n\u001b[0;32m      3\u001b[0m '''\n\u001b[0;32m      4\u001b[0m \u001b[1;32mdel\u001b[0m \u001b[0mshoppingList\u001b[0m\u001b[1;33m\u001b[0m\u001b[1;33m\u001b[0m\u001b[0m\n\u001b[1;32m----> 5\u001b[1;33m \u001b[0mprint\u001b[0m\u001b[1;33m(\u001b[0m\u001b[0mshoppingList\u001b[0m\u001b[1;33m)\u001b[0m\u001b[1;33m\u001b[0m\u001b[1;33m\u001b[0m\u001b[0m\n\u001b[0m",
      "\u001b[1;31mNameError\u001b[0m: name 'shoppingList' is not defined"
     ]
    }
   ],
   "source": [
    "'''\n",
    "7) Delete the shoppinglist\n",
    "'''\n",
    "del shoppingList\n",
    "print(shoppingList)"
   ]
  },
  {
   "cell_type": "code",
   "execution_count": 46,
   "metadata": {},
   "outputs": [
    {
     "name": "stdout",
     "output_type": "stream",
     "text": [
      "[2, 4, 6, 8, 10, 12, 14, 16, 18, 20, 22, 24, 26, 28]\n"
     ]
    }
   ],
   "source": [
    "'''\n",
    "8) Create a list with the double values os number between 1 and 15.\n",
    "'''\n",
    "\n",
    "doubles=[x*2 for x in range(1,15)]\n",
    "print(doubles)"
   ]
  },
  {
   "cell_type": "code",
   "execution_count": 47,
   "metadata": {},
   "outputs": [
    {
     "name": "stdout",
     "output_type": "stream",
     "text": [
      "[2, 4, 6]\n"
     ]
    }
   ],
   "source": [
    "'''\n",
    "9) Obtain the first 3 elements of the list\n",
    "'''\n",
    "firstthree=doubles[:3]\n",
    "print(firstthree)"
   ]
  },
  {
   "cell_type": "code",
   "execution_count": 35,
   "metadata": {},
   "outputs": [
    {
     "name": "stdout",
     "output_type": "stream",
     "text": [
      "['potatoes', 'carrots', 'cod', 'sprouts']\n"
     ]
    }
   ],
   "source": [
    "'''\n",
    "10) What is the result of, Why?\n",
    "shopping = shoppingList\n",
    "shoppingListCopy = shoppingList[:]\n",
    "print(shopping)\n",
    "'''\n",
    "\n",
    "shoppingList=['potatoes','carrots','cod','sprouts']\n",
    "shopping=shoppingList\n",
    "shoppingListCopy=shoppingList[:]\n",
    "print(shopping)"
   ]
  },
  {
   "cell_type": "code",
   "execution_count": 36,
   "metadata": {},
   "outputs": [
    {
     "name": "stdout",
     "output_type": "stream",
     "text": [
      "['potatoes', 'carrots', 'cod', 'sprouts', 'orange']\n"
     ]
    }
   ],
   "source": [
    "'''\n",
    "12) What is the result of, Why?\n",
    "shopping = shoppingList\n",
    "shoppingList.append(\"orange\")\n",
    "print(shopping)\n",
    "'''\n",
    "shopping=shoppingList\n",
    "shoppingList.append(\"orange\")\n",
    "print(shopping)\n",
    "\n",
    "'''\n",
    "'shopping' is a variable and depends on shoppingList so when you change shoppingList, \n",
    "shopping is automatically modified accordingly\n",
    "'''"
   ]
  },
  {
   "cell_type": "code",
   "execution_count": 39,
   "metadata": {},
   "outputs": [
    {
     "name": "stdout",
     "output_type": "stream",
     "text": [
      "[]\n"
     ]
    }
   ],
   "source": [
    "'''\n",
    "13) romove all the items from the shoppingList\n",
    "'''\n",
    "shoppingList.clear()\n",
    "print(shoppingList)"
   ]
  },
  {
   "cell_type": "code",
   "execution_count": 42,
   "metadata": {},
   "outputs": [
    {
     "name": "stdout",
     "output_type": "stream",
     "text": [
      "beans\n"
     ]
    },
    {
     "ename": "TypeError",
     "evalue": "'tuple' object does not support item assignment",
     "output_type": "error",
     "traceback": [
      "\u001b[1;31m---------------------------------------------------------------------------\u001b[0m",
      "\u001b[1;31mTypeError\u001b[0m                                 Traceback (most recent call last)",
      "\u001b[1;32m<ipython-input-42-10cd10b56ef3>\u001b[0m in \u001b[0;36m<module>\u001b[1;34m\u001b[0m\n\u001b[0;32m      7\u001b[0m \u001b[0mnewPurchases\u001b[0m\u001b[1;33m=\u001b[0m\u001b[1;33m(\u001b[0m\u001b[1;34m\"bananas\"\u001b[0m\u001b[1;33m,\u001b[0m\u001b[1;34m\"beans\"\u001b[0m\u001b[1;33m,\u001b[0m\u001b[1;34m\"rice\"\u001b[0m\u001b[1;33m)\u001b[0m\u001b[1;33m\u001b[0m\u001b[1;33m\u001b[0m\u001b[0m\n\u001b[0;32m      8\u001b[0m \u001b[0mprint\u001b[0m\u001b[1;33m(\u001b[0m\u001b[0mnewPurchases\u001b[0m\u001b[1;33m[\u001b[0m\u001b[1;36m1\u001b[0m\u001b[1;33m]\u001b[0m\u001b[1;33m)\u001b[0m\u001b[1;33m\u001b[0m\u001b[1;33m\u001b[0m\u001b[0m\n\u001b[1;32m----> 9\u001b[1;33m \u001b[0mnewPurchases\u001b[0m\u001b[1;33m[\u001b[0m\u001b[1;36m0\u001b[0m\u001b[1;33m]\u001b[0m\u001b[1;33m=\u001b[0m\u001b[1;34m\"apple\"\u001b[0m\u001b[1;33m\u001b[0m\u001b[1;33m\u001b[0m\u001b[0m\n\u001b[0m",
      "\u001b[1;31mTypeError\u001b[0m: 'tuple' object does not support item assignment"
     ]
    }
   ],
   "source": [
    "'''\n",
    "14) What is the result of, Why?\n",
    "newPurchases= (\"bananas\", \"beans\", \"rice\")\n",
    "print (newPurchases [1])\n",
    "newPurchases [0] = \"apple\"\n",
    "'''\n",
    "newPurchases=(\"bananas\",\"beans\",\"rice\")\n",
    "print(newPurchases[1])\n",
    "newPurchases[0]=\"apple\"\n",
    "\n",
    "'''\n",
    "This is a tuple and tuples are immutable and cannot be modified.\n",
    "'''"
   ]
  },
  {
   "cell_type": "code",
   "execution_count": 53,
   "metadata": {},
   "outputs": [
    {
     "name": "stdout",
     "output_type": "stream",
     "text": [
      "The fruit1isorange\n",
      "The fruit2isapple\n",
      "The fruit3ispear\n",
      "The fruit4isgrapes\n",
      "The fruit5ispeach\n"
     ]
    }
   ],
   "source": [
    "'''\n",
    "15) Create a dictionary including the follwoing elements: orange, apple, pear, grape and peach. Key are 1 to 5.\n",
    "Iterate through key-value pair.\n",
    "'''\n",
    "fruit={1:'orange',2:'apple',3:'pear',4:'grapes',5:'peach'}\n",
    "for key,value in fruit.items():\n",
    "    print('The fruit'+str(key)+'is'+value)\n",
    "\n",
    "\n"
   ]
  },
  {
   "cell_type": "code",
   "execution_count": 3,
   "metadata": {},
   "outputs": [
    {
     "name": "stdout",
     "output_type": "stream",
     "text": [
      "[['potatoes', 'eggs'], ['milk', 'carrots', 'apples'], ['oranges'], ['bananas', 'fish', 'bread', 'rice'], ['cake', 'beans'], ['juice', 'sprouts'], ['paprika', 'onions', 'pasta']]\n"
     ]
    }
   ],
   "source": [
    "'''\n",
    "16) Create a weekList that is composed of several lists, each one corresponding to a day\n",
    "'''\n",
    "shoppingListmonday=['potatoes','eggs']\n",
    "shoppingListtuesday=['milk','carrots','apples']\n",
    "shoppingListwednesday=['oranges']\n",
    "shoppingListthursday=['bananas','fish','bread','rice']\n",
    "shoppingListfriday=['cake','beans']\n",
    "shoppingListsaturday=['juice','sprouts']\n",
    "shoppingListsunday=['paprika','onions','pasta']\n",
    "\n",
    "weekList=[]\n",
    "weekList.append(shoppingListmonday)\n",
    "weekList.append(shoppingListtuesday)\n",
    "weekList.append(shoppingListwednesday)\n",
    "weekList.append(shoppingListthursday)\n",
    "weekList.append(shoppingListfriday)\n",
    "weekList.append(shoppingListsaturday)\n",
    "weekList.append(shoppingListsunday)\n",
    "print(weekList)"
   ]
  }
 ],
 "metadata": {
  "kernelspec": {
   "display_name": "Python 3",
   "language": "python",
   "name": "python3"
  },
  "language_info": {
   "codemirror_mode": {
    "name": "ipython",
    "version": 3
   },
   "file_extension": ".py",
   "mimetype": "text/x-python",
   "name": "python",
   "nbconvert_exporter": "python",
   "pygments_lexer": "ipython3",
   "version": "3.7.3"
  }
 },
 "nbformat": 4,
 "nbformat_minor": 2
}
