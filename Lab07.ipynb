{
 "cells": [
  {
   "cell_type": "code",
   "execution_count": 13,
   "metadata": {},
   "outputs": [
    {
     "name": "stdout",
     "output_type": "stream",
     "text": [
      "71.3199380273798\n"
     ]
    }
   ],
   "source": [
    "#Supose you have the follwoing cashflow\n",
    "\n",
    "CFList=[-1000, 200, 200, 300, 500]\n",
    "rate= 0.04\n",
    "\n",
    "#calcule the NPV sugestion: iterate both by index and value using enumerate\n",
    "\n",
    "NPV=0\n",
    "for t, cf in enumerate(CFList):\n",
    "    NPV=NPV+cf/((1+rate)**t)\n",
    "\n",
    "print(NPV)"
   ]
  },
  {
   "cell_type": "code",
   "execution_count": 14,
   "metadata": {},
   "outputs": [
    {
     "name": "stdout",
     "output_type": "stream",
     "text": [
      "71.3199380273798\n"
     ]
    }
   ],
   "source": [
    "#create a function called NPV that returns the NPV value\n",
    "\n",
    "def NPV(cashflows, discountrate):\n",
    "    NPV=0\n",
    "    for t, cf in enumerate(cashflows):\n",
    "        NPV += cf/((1+discountrate)**t)\n",
    "    return(NPV)\n",
    "\n",
    "print(NPV(CFList,rate))"
   ]
  },
  {
   "cell_type": "code",
   "execution_count": 15,
   "metadata": {},
   "outputs": [
    {
     "name": "stdout",
     "output_type": "stream",
     "text": [
      "0.06542842834790366\n"
     ]
    }
   ],
   "source": [
    "#IRR\n",
    "\n",
    "def IRR(CFList):\n",
    "    rate=1\n",
    "    for i in range(1,100):\n",
    "        rate= rate*(1-NPV(CFList, rate)/CFList[0])\n",
    "    return rate\n",
    "\n",
    "print(IRR(CFList))"
   ]
  },
  {
   "cell_type": "code",
   "execution_count": 20,
   "metadata": {},
   "outputs": [
    {
     "name": "stdout",
     "output_type": "stream",
     "text": [
      "[-1000, -800, -600, -300, 200]\n",
      "4\n",
      "3.6\n"
     ]
    }
   ],
   "source": [
    "#pay back period\n",
    "\n",
    "recoveredCF=[]\n",
    "recoveredCF.append(CFList[0])\n",
    "\n",
    "for i in range(1,len(CFList)):\n",
    "    recoveredCF.append(recoveredCF[i-1]+CFList[i])\n",
    "    \n",
    "print(recoveredCF)\n",
    "       \n",
    "PBPeriod=[i for i, x in enumerate(recoveredCF) if x>0]\n",
    "print(PBPeriod[0])\n",
    "\n",
    "PBPeriodexact=PBPeriod[0]-1+(recoveredCF[-2]*(-1))/(recoveredCF[-1]-recoveredCF[-2])\n",
    "print(PBPeriodexact)"
   ]
  }
 ],
 "metadata": {
  "kernelspec": {
   "display_name": "Python 3",
   "language": "python",
   "name": "python3"
  },
  "language_info": {
   "codemirror_mode": {
    "name": "ipython",
    "version": 3
   },
   "file_extension": ".py",
   "mimetype": "text/x-python",
   "name": "python",
   "nbconvert_exporter": "python",
   "pygments_lexer": "ipython3",
   "version": "3.7.3"
  }
 },
 "nbformat": 4,
 "nbformat_minor": 2
}
